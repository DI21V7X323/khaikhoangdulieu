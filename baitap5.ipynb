{
  "nbformat": 4,
  "nbformat_minor": 0,
  "metadata": {
    "colab": {
      "provenance": [],
      "authorship_tag": "ABX9TyNLre+sZAMoa/IBb/LqrcAf",
      "include_colab_link": true
    },
    "kernelspec": {
      "name": "python3",
      "display_name": "Python 3"
    },
    "language_info": {
      "name": "python"
    }
  },
  "cells": [
    {
      "cell_type": "markdown",
      "metadata": {
        "id": "view-in-github",
        "colab_type": "text"
      },
      "source": [
        "<a href=\"https://colab.research.google.com/github/DI21V7X323/khaikhoangdulieu/blob/main/baitap5.ipynb\" target=\"_parent\"><img src=\"https://colab.research.google.com/assets/colab-badge.svg\" alt=\"Open In Colab\"/></a>"
      ]
    },
    {
      "cell_type": "code",
      "execution_count": 2,
      "metadata": {
        "colab": {
          "base_uri": "https://localhost:8080/"
        },
        "id": "WYGmsKPXf5vF",
        "outputId": "8b9b60cd-cb7a-40d0-fd8b-9afdb22a24c7"
      },
      "outputs": [
        {
          "output_type": "stream",
          "name": "stdout",
          "text": [
            "Setup complete.\n"
          ]
        },
        {
          "output_type": "execute_result",
          "data": {
            "text/plain": [
              "Unknown                 21247\n",
              "Napa Valley              4480\n",
              "Columbia Valley (WA)     4124\n",
              "Russian River Valley     3091\n",
              "California               2629\n",
              "                        ...  \n",
              "Offida Rosso                1\n",
              "Corton Perrières            1\n",
              "Isle St. George             1\n",
              "Geelong                     1\n",
              "Paestum                     1\n",
              "Name: region_1, Length: 1230, dtype: int64"
            ]
          },
          "metadata": {},
          "execution_count": 2
        }
      ],
      "source": [
        "import pandas as pd\n",
        "reviews = pd.read_csv(\"https://raw.githubusercontent.com/ltdaovn/dataset/master/wine-reviews/winemag-data-130k-v2.csv\", index_col=0)\n",
        "print(\"Setup complete.\")\n",
        "dtype = reviews.points.dtype\n",
        "dtype\n",
        "point_strings = reviews.points.astype('str')\n",
        "point_strings\n",
        "n_missing_prices = reviews.price.isnull().sum()\n",
        "n_missing_prices\n",
        "reviews_per_region = reviews.region_1.fillna('Unknown').value_counts().sort_values(ascending=False)\n",
        "reviews_per_region"
      ]
    }
  ]
}