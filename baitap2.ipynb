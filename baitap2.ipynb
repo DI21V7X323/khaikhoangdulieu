{
  "nbformat": 4,
  "nbformat_minor": 0,
  "metadata": {
    "colab": {
      "provenance": [],
      "authorship_tag": "ABX9TyOcRO3fQC/9UvX0QPYLlvzY",
      "include_colab_link": true
    },
    "kernelspec": {
      "name": "python3",
      "display_name": "Python 3"
    },
    "language_info": {
      "name": "python"
    }
  },
  "cells": [
    {
      "cell_type": "markdown",
      "metadata": {
        "id": "view-in-github",
        "colab_type": "text"
      },
      "source": [
        "<a href=\"https://colab.research.google.com/github/DI21V7X323/khaikhoangdulieu/blob/main/baitap2.ipynb\" target=\"_parent\"><img src=\"https://colab.research.google.com/assets/colab-badge.svg\" alt=\"Open In Colab\"/></a>"
      ]
    },
    {
      "cell_type": "code",
      "execution_count": null,
      "metadata": {
        "id": "hO9EfN7-aPY2"
      },
      "outputs": [],
      "source": [
        "import pandas as pd\n",
        "pd.set_option(\"display.max_rows\", 5)\n",
        "reviews = pd.read_csv(\"https://raw.githubusercontent.com/ltdaovn/dataset/master/wine-reviews/winemag-data-130k-v2.csv\", index_col=0)\n",
        "reviews.head()\n",
        "median_points = reviews.points.median()\n",
        "median_points\n",
        "countries = reviews.country.unique()\n",
        "countries\n",
        "reviews_per_country = reviews.country.value_counts()\n",
        "reviews_per_country\n",
        "centered_price = reviews.price - reviews.price.mean()\n",
        "centered_price\n",
        "bargain_idx = (reviews.points / reviews.price).idxmax()\n",
        "bargain_wine = reviews.loc[bargain_idx, 'title']\n",
        "bargain_wine\n",
        "n_trop = reviews.description.map(lambda desc: \"tropical\" in desc).sum()\n",
        "n_fruity = reviews.description.map(lambda desc: \"fruity\" in desc).sum()\n",
        "descriptor_counts = pd.Series([n_trop, n_fruity], index=['tropical', 'fruity'])\n",
        "descriptor_counts\n",
        "def stars(row):\n",
        " if row.country == 'Canada':\n",
        " return 3\n",
        " elif row.points >= 95:\n",
        " return 3\n",
        " elif row.points >= 85:\n",
        " return 2\n",
        " else:\n",
        " return 1\n",
        "star_ratings = reviews.apply(stars, axis='columns')\n",
        "star_ratings"
      ]
    }
  ]
}