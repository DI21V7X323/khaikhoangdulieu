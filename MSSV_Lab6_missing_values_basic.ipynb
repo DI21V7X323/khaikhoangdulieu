{
  "nbformat": 4,
  "nbformat_minor": 0,
  "metadata": {
    "colab": {
      "provenance": [],
      "include_colab_link": true
    },
    "kernelspec": {
      "name": "python3",
      "display_name": "Python 3"
    },
    "language_info": {
      "name": "python"
    }
  },
  "cells": [
    {
      "cell_type": "markdown",
      "metadata": {
        "id": "view-in-github",
        "colab_type": "text"
      },
      "source": [
        "<a href=\"https://colab.research.google.com/github/DI21V7X323/khaikhoangdulieu/blob/main/MSSV_Lab6_missing_values_basic.ipynb\" target=\"_parent\"><img src=\"https://colab.research.google.com/assets/colab-badge.svg\" alt=\"Open In Colab\"/></a>"
      ]
    },
    {
      "cell_type": "code",
      "metadata": {
        "id": "WVnffqSGmeKv"
      },
      "source": [
        "import pandas as pd\n",
        "import numpy as np\n",
        "\n",
        "df = pd.read_excel(\"https://github.com/ltdaovn/dataset/blob/master/student.xlsx?raw=true\", index_col='id')\n",
        "print(df)"
      ],
      "execution_count": null,
      "outputs": []
    },
    {
      "cell_type": "code",
      "metadata": {
        "id": "PNGDwouLm-3J"
      },
      "source": [
        "# Xóa các hàng có bất kỳ giá trị nào bị rỗng\n",
        "new_df = df.dropna(how='any')\n",
        "print(new_df)"
      ],
      "execution_count": null,
      "outputs": []
    },
    {
      "cell_type": "code",
      "metadata": {
        "id": "yiRKnJrSpGeW"
      },
      "source": [
        "# Xóa các hàng có tất cả giá trị đều bị rỗng\n",
        "new_df = df.dropna()\n",
        "print(new_df)"
      ],
      "execution_count": null,
      "outputs": []
    },
    {
      "cell_type": "code",
      "metadata": {
        "id": "f-IK9QYsqA6x"
      },
      "source": [
        "# Xóa các cột có bất kỳ giá trị nào bị rỗng\n",
        "new_df = df.dropna()\n",
        "print(new_df)"
      ],
      "execution_count": null,
      "outputs": []
    },
    {
      "cell_type": "code",
      "metadata": {
        "id": "jB9QTiwMovfs"
      },
      "source": [
        "# Xóa các cột có tất cả giá trị đều bị rỗng\n",
        "new_df = df.dropna()\n",
        "print(new_df)"
      ],
      "execution_count": null,
      "outputs": []
    },
    {
      "cell_type": "code",
      "metadata": {
        "id": "iR8JSF6AqvpC"
      },
      "source": [
        "# Chỉ giữ lại các hàng có từ 2 dữ liệu hợp lệ trở lên\n",
        "new_df = df.dropna()\n",
        "print(new_df)"
      ],
      "execution_count": null,
      "outputs": []
    },
    {
      "cell_type": "code",
      "metadata": {
        "id": "a_gZnDDiu4uZ"
      },
      "source": [
        "# Chỉ giữ lại các hàng có từ 3 dữ liệu hợp lệ trở lên\n",
        "new_df = df.dropna()\n",
        "print(new_df)"
      ],
      "execution_count": null,
      "outputs": []
    },
    {
      "cell_type": "code",
      "metadata": {
        "id": "Aq3qvSf3vwsu"
      },
      "source": [
        "# Chỉ giữ lại các cột có từ 11 dữ liệu hợp lệ\n",
        "new_df = df.dropna()\n",
        "print(new_df)\n"
      ],
      "execution_count": null,
      "outputs": []
    },
    {
      "cell_type": "code",
      "metadata": {
        "id": "muuL2LPs1uuT"
      },
      "source": [
        "# Chỉ giữ lại các hàng có 70% dữ liệu hợp lệ trở lên\n",
        "new_df = df.dropna(how='any',axis=0,thresh=df.shape[1]*0.7)\n",
        "print(new_df)"
      ],
      "execution_count": null,
      "outputs": []
    },
    {
      "cell_type": "code",
      "metadata": {
        "id": "iCn1zCkX2FW9"
      },
      "source": [
        "#Chỉ giữ lại các cột có 80% dữ liệu hợp lệ trở lên\n",
        "new_df = df.dropna()\n",
        "print(new_df)"
      ],
      "execution_count": null,
      "outputs": []
    }
  ]
}