{
  "nbformat": 4,
  "nbformat_minor": 0,
  "metadata": {
    "colab": {
      "provenance": [],
      "toc_visible": true,
      "include_colab_link": true
    },
    "kernelspec": {
      "name": "python3",
      "display_name": "Python 3"
    },
    "language_info": {
      "name": "python"
    }
  },
  "cells": [
    {
      "cell_type": "markdown",
      "metadata": {
        "id": "view-in-github",
        "colab_type": "text"
      },
      "source": [
        "<a href=\"https://colab.research.google.com/github/DI21V7X323/khaikhoangdulieu/blob/main/B%E1%BA%A3n_sao_c%E1%BB%A7a_01_THUC_HANH.ipynb\" target=\"_parent\"><img src=\"https://colab.research.google.com/assets/colab-badge.svg\" alt=\"Open In Colab\"/></a>"
      ]
    },
    {
      "cell_type": "code",
      "execution_count": null,
      "metadata": {
        "id": "VdcoPsJwlxAq",
        "outputId": "e295e912-d961-4182-f934-7751bc8e1794",
        "colab": {
          "base_uri": "https://localhost:8080/"
        }
      },
      "outputs": [
        {
          "output_type": "stream",
          "name": "stdout",
          "text": [
            "Drive already mounted at /content/drive/; to attempt to forcibly remount, call drive.mount(\"/content/drive/\", force_remount=True).\n"
          ]
        },
        {
          "output_type": "execute_result",
          "data": {
            "text/plain": [
              "['Untitled0.ipynb']"
            ]
          },
          "metadata": {},
          "execution_count": 4
        }
      ],
      "source": [
        "#Kết nối ổ đĩa drive với colab\n",
        "from google.colab import drive\n",
        "drive.mount('/content/drive/')\n",
        "# Xem thư mục gốc\n",
        "import os\n",
        "os.listdir(\"/content/drive/My Drive/PYTHON\")\n"
      ]
    },
    {
      "cell_type": "markdown",
      "source": [],
      "metadata": {
        "id": "8sRSdpkqpLnG"
      }
    },
    {
      "cell_type": "code",
      "source": [
        "import numpy as np\n",
        "os.listdir(\"/content/drive/My Drive/PYTHON\")\n",
        "\n",
        "#Nạp dữ liệu iris.csv vào data\n",
        "data = np.genfromtxt(\"/content/drive/My Drive/PYTHON/iris.csv\", delimiter = \",\")\n",
        "\n",
        "#Hiện thị dữ liệu từ iris.csv\n",
        "print(data.shape)\n",
        "print(data)\n"
      ],
      "metadata": {
        "id": "eXJMoyiGoYST"
      },
      "execution_count": null,
      "outputs": []
    },
    {
      "cell_type": "code",
      "source": [
        "import pandas as pd\n",
        "reviews = pd.read_csv(\"https://raw.githubusercontent.com/ltdaovn/dataset/master/wine-reviews/winemag-data-130k-v2.csv\", index_col=0)\n",
        "pd.set_option(\"display.max_rows\", 5)\n",
        "print(\"Setup complete.\")"
      ],
      "metadata": {
        "colab": {
          "base_uri": "https://localhost:8080/"
        },
        "id": "V1StXNIWs6s3",
        "outputId": "e08ba862-ee05-4f77-f0ef-bbf1ad795abf"
      },
      "execution_count": null,
      "outputs": [
        {
          "output_type": "stream",
          "name": "stdout",
          "text": [
            "Setup complete.\n"
          ]
        }
      ]
    },
    {
      "cell_type": "code",
      "source": [
        "import pandas as pd\n",
        "from sklearn.naive_bayes import GaussianNB\n",
        "from sklearn.metrics import confusion_matrix\n",
        "from sklearn.metrics import accuracy_score\n",
        "import matplotlib.pyplot as plt\n",
        "import seaborn as sns\n",
        "\n",
        "#Doc du lieu iris.csv\n",
        "data = pd.read_csv(\"/content/drive/My Drive/PYTHON/iris.csv\", delimiter = \",\")\n",
        "\n",
        "#Hiện thị dữ liệu từ iris.csv\n",
        "print(\"Setup complete.\")\n",
        "data.head()\n",
        "data.tail()\n",
        "\n",
        "#Hang 0->4 va cot 0->1\n",
        "data.iloc[0:5,0:2]\n",
        "print(data)\n",
        "data.iloc[:,0:4]\n",
        "\n",
        "#Gan X va Y de huan luyen mo hinh\n",
        "X = data.iloc[:,0:4]\n",
        "Y = data.iloc[:,4:5]\n",
        "\n",
        "#In du lieu X, Y\n",
        "print(X)\n",
        "print(Y)\n",
        "print(X.describe())\n",
        "print(Y.describe())\n",
        "\n",
        "# Sử dụng nghi thức kiểm tra hold-out\n",
        "# Chia dữ liệu ngẫu nhiên thành 2 tập dữ liệu con:\n",
        "# training set và test set theo tỷ lệ 70/30\n",
        "from sklearn.model_selection import train_test_split\n",
        "\n",
        "X_train, X_test, y_train, y_test = train_test_split(X, Y, test_size=0.3)\n",
        "print(X_train.shape, y_train.shape)\n",
        "print(X_test.shape, y_test.shape)\n",
        "\n",
        "# Xây dựng mô hình phân loại dữ liệu (Theo yeu cau de)\n",
        "model = GaussianNB()\n",
        "model.fit(X_train, y_train)\n",
        "\n",
        "# Dự đoán nhãn tập kiểm tra\n",
        "y_pred = model.predict(X_test)\n",
        "\n",
        "#print(y_pred)\n",
        "# Tính độ chính xác\n",
        "print(\"Do chinh xác cua mo hinh voi nghi thuc kiem tra hold-out: %.3f\" %\n",
        "accuracy_score(y_test, y_pred))\n",
        "\n",
        "\n",
        "# Xây dựng confusion-matrix. Tham khảo:\n",
        "# https://www.python-course.eu/confusion_matrix.php\n",
        "cm = confusion_matrix(y_test, y_pred)\n",
        "\n",
        "# Chuyển confusion-matrix về data frame phục vụ cho việc vẽ đồ thị\n",
        "cm_df = pd.DataFrame(cm,\n",
        " index=['setosa', 'versicolor', 'virginica'],\n",
        "columns=['setosa', 'versicolor', 'virginica'])\n",
        "plt.figure(figsize=(5.5, 4))\n",
        "sns.heatmap(cm_df, annot=True)\n",
        "plt.title('GaussianNB \\nAccuracy:{0:.3f}'.format(accuracy_score(y_test,\n",
        "y_pred)))\n",
        "plt.ylabel('True label')\n",
        "plt.xlabel('Predicted label')\n",
        "plt.show()"
      ],
      "metadata": {
        "id": "pOFWSinsrf-S"
      },
      "execution_count": null,
      "outputs": []
    },
    {
      "cell_type": "code",
      "source": [
        "import pandas as pd\n",
        "from sklearn.naive_bayes import GaussianNB\n",
        "from sklearn.metrics import confusion_matrix\n",
        "from sklearn.metrics import accuracy_score\n",
        "import matplotlib.pyplot as plt\n",
        "import seaborn as sns\n",
        "\n",
        "#Doc du lieu iris.csv\n",
        "data = pd.read_csv(\"/content/drive/My Drive/PYTHON/iris.csv\", delimiter = \",\")\n",
        "\n",
        "#Hiện thị dữ liệu từ iris.csv\n",
        "print(\"Setup complete.\")\n",
        "data.head()\n",
        "data.tail()\n",
        "\n",
        "#Hang 0->4 va cot 0->1\n",
        "data.iloc[0:5,0:2]\n",
        "print(data)\n",
        "data.iloc[:,0:4]\n",
        "\n",
        "#Gan X va Y de huan luyen mo hinh\n",
        "X = data.iloc[:,0:4]\n",
        "Y = data.iloc[:,4:5]\n",
        "\n",
        "#In du lieu X, Y\n",
        "print(X)\n",
        "print(Y)\n",
        "print(X.describe())\n",
        "print(Y.describe())\n",
        "\n",
        "# Sử dụng nghi thức kiểm tra hold-out\n",
        "# Chia dữ liệu ngẫu nhiên thành 2 tập dữ liệu con:\n",
        "# training set và test set theo tỷ lệ 70/30\n",
        "from sklearn.model_selection import train_test_split\n",
        "\n",
        "sum =0\n",
        "for i in range(10):\n",
        "  X_train, X_test, y_train, y_test = train_test_split(X, Y, test_size=0.3)\n",
        "  #print(X_train.shape, y_train.shape)\n",
        "  #print(X_test.shape, y_test.shape)\n",
        "\n",
        "  # Xây dựng mô hình phân loại dữ liệu (Theo yeu cau de)\n",
        "  model = GaussianNB()\n",
        "  model.fit(X_train, y_train)\n",
        "\n",
        "  # Dự đoán nhãn tập kiểm tra\n",
        "  y_pred = model.predict(X_test)\n",
        "\n",
        "  #print(y_pred)\n",
        "  # Tính độ chính xác\n",
        "  accuracy = accuracy_score(y_test, y_pred)\n",
        "  print(\"Do chinh xác cua mo hinh voi nghi thuc kiem tra hold-out lan thu %d: %.3f\" % (i, accuracy))\n",
        "  sum = sum + accuracy\n",
        "\n",
        "print(\"Do chinh xac trung binh theo nghi thuc kiem tra hold-out: %.3f\" % (accuracy/10))\n",
        "\n"
      ],
      "metadata": {
        "id": "8J2SvbYS__PR"
      },
      "execution_count": null,
      "outputs": []
    }
  ]
}