{
  "nbformat": 4,
  "nbformat_minor": 0,
  "metadata": {
    "colab": {
      "provenance": [],
      "toc_visible": true,
      "authorship_tag": "ABX9TyOinEKD09hnsppB61ttNI8G",
      "include_colab_link": true
    },
    "kernelspec": {
      "name": "python3",
      "display_name": "Python 3"
    },
    "language_info": {
      "name": "python"
    }
  },
  "cells": [
    {
      "cell_type": "markdown",
      "metadata": {
        "id": "view-in-github",
        "colab_type": "text"
      },
      "source": [
        "<a href=\"https://colab.research.google.com/github/DI21V7X323/khaikhoangdulieu/blob/main/baitap4.ipynb\" target=\"_parent\"><img src=\"https://colab.research.google.com/assets/colab-badge.svg\" alt=\"Open In Colab\"/></a>"
      ]
    },
    {
      "cell_type": "code",
      "execution_count": 1,
      "metadata": {
        "colab": {
          "base_uri": "https://localhost:8080/"
        },
        "id": "l-EVjmFmeyoP",
        "outputId": "f625533b-c3be-4414-e149-5d0350956fd9"
      },
      "outputs": [
        {
          "output_type": "stream",
          "name": "stdout",
          "text": [
            "Setup complete.\n"
          ]
        },
        {
          "output_type": "stream",
          "name": "stderr",
          "text": [
            "<ipython-input-1-fe7522e3194b>:13: FutureWarning: In a future version of pandas all arguments of Series.sort_values will be keyword-only.\n",
            "  reviewer_mean_ratings = reviews.groupby('taster_name').points.mean().sort_values(0, ascending=False)\n"
          ]
        },
        {
          "output_type": "execute_result",
          "data": {
            "text/plain": [
              "country  variety                 \n",
              "US       Pinot Noir                  9885\n",
              "         Cabernet Sauvignon          7315\n",
              "         Chardonnay                  6801\n",
              "France   Bordeaux-style Red Blend    4725\n",
              "Italy    Red Blend                   3624\n",
              "                                     ... \n",
              "Mexico   Cinsault                       1\n",
              "         Grenache                       1\n",
              "         Merlot                         1\n",
              "         Rosado                         1\n",
              "Uruguay  White Blend                    1\n",
              "Length: 1612, dtype: int64"
            ]
          },
          "metadata": {},
          "execution_count": 1
        }
      ],
      "source": [
        "import pandas as pd\n",
        "reviews = pd.read_csv(\"https://raw.githubusercontent.com/ltdaovn/dataset/master/wine-reviews/winemag-data-130k-v2.csv\", index_col=0)\n",
        "#pd.set_option(\"display.max_rows\", 5)\n",
        "print(\"Setup complete.\")\n",
        "reviews_written = reviews.groupby('taster_twitter_handle').taster_twitter_handle.count()\n",
        "reviews_written\n",
        "best_rating_per_price = reviews.groupby('price')['points'].max().sort_index()\n",
        "best_rating_per_price\n",
        "price_extremes = reviews.groupby(['variety']).price.agg([min, max])\n",
        "price_extremes\n",
        "sorted_varieties = price_extremes.sort_values(by=['min', 'max'], ascending=False)\n",
        "sorted_varieties\n",
        "reviewer_mean_ratings = reviews.groupby('taster_name').points.mean().sort_values(0, ascending=False)\n",
        "reviewer_mean_ratings\n",
        "reviewer_mean_ratings.describe()\n",
        "country_variety_counts = reviews.groupby(['country', 'variety']).size().sort_values(ascending=False)\n",
        "country_variety_counts"
      ]
    }
  ]
}